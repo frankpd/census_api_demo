{
 "cells": [
  {
   "cell_type": "markdown",
   "metadata": {},
   "source": [
    "## Census API Example\n",
    "This example only works with an api key: https://www.census.gov/developers/.\n",
    "You can run it a limited number of times without a key; comment out block 2 and remove &key={api_key} from the data_url string in block 5"
   ]
  },
  {
   "cell_type": "code",
   "execution_count": 1,
   "metadata": {},
   "outputs": [],
   "source": [
    "#Pull data from Population Estimates Vintage 2018\n",
    "%matplotlib inline\n",
    "import requests,pandas as pd"
   ]
  },
  {
   "cell_type": "code",
   "execution_count": 2,
   "metadata": {},
   "outputs": [],
   "source": [
    "with open('census_key.txt') as key:\n",
    "    api_key=key.read().strip()"
   ]
  },
  {
   "cell_type": "code",
   "execution_count": 3,
   "metadata": {},
   "outputs": [],
   "source": [
    "year='2018'\n",
    "dsource='pep'\n",
    "dname='components'\n",
    "cols='GEONAME,NATURALINC,DOMESTICMIG,INTERNATIONALMIG'\n",
    "state='42'\n",
    "county='017,029,045,091,101'\n",
    "#state='34'\n",
    "#county='005,007,015,021'"
   ]
  },
  {
   "cell_type": "code",
   "execution_count": 4,
   "metadata": {},
   "outputs": [
    {
     "data": {
      "text/plain": [
       "'https://api.census.gov/data/2018/pep/components'"
      ]
     },
     "execution_count": 4,
     "metadata": {},
     "output_type": "execute_result"
    }
   ],
   "source": [
    "base_url = f'https://api.census.gov/data/{year}/{dsource}/{dname}'\n",
    "base_url"
   ]
  },
  {
   "cell_type": "code",
   "execution_count": 5,
   "metadata": {},
   "outputs": [
    {
     "name": "stdout",
     "output_type": "stream",
     "text": [
      "[[\"GEONAME\",\"NATURALINC\",\"DOMESTICMIG\",\"INTERNATIONALMIG\",\"state\",\"county\"],\n",
      "[\"Bucks County, Pennsylvania\",\"-178\",\"-605\",\"862\",\"42\",\"017\"],\n",
      "[\"Chester County, Pennsylvania\",\"1829\",\"-887\",\"1374\",\"42\",\"029\"],\n",
      "[\"Delaware County, Pennsylvania\",\"1374\",\"-2513\",\"1579\",\"42\",\"045\"],\n",
      "[\"Montgomery County, Pennsylvania\",\"1230\",\"-1987\",\"2315\",\"42\",\"091\"],\n",
      "[\"Philadelphia County, Pennsylvania\",\"8617\",\"-11796\",\"8904\",\"42\",\"101\"]]\n"
     ]
    }
   ],
   "source": [
    "data_url = f'{base_url}?get={cols}&for=county:{county}&in=state:{state}&key={api_key}'\n",
    "response=requests.get(data_url)\n",
    "print(response.text)"
   ]
  },
  {
   "cell_type": "code",
   "execution_count": 6,
   "metadata": {},
   "outputs": [
    {
     "data": {
      "text/html": [
       "<div>\n",
       "<style scoped>\n",
       "    .dataframe tbody tr th:only-of-type {\n",
       "        vertical-align: middle;\n",
       "    }\n",
       "\n",
       "    .dataframe tbody tr th {\n",
       "        vertical-align: top;\n",
       "    }\n",
       "\n",
       "    .dataframe thead th {\n",
       "        text-align: right;\n",
       "    }\n",
       "</style>\n",
       "<table border=\"1\" class=\"dataframe\">\n",
       "  <thead>\n",
       "    <tr style=\"text-align: right;\">\n",
       "      <th></th>\n",
       "      <th>GEONAME</th>\n",
       "      <th>Natural Increase</th>\n",
       "      <th>Net Domestic Mig</th>\n",
       "      <th>Net Foreign Mig</th>\n",
       "    </tr>\n",
       "    <tr>\n",
       "      <th>fips</th>\n",
       "      <th></th>\n",
       "      <th></th>\n",
       "      <th></th>\n",
       "      <th></th>\n",
       "    </tr>\n",
       "  </thead>\n",
       "  <tbody>\n",
       "    <tr>\n",
       "      <th>42017</th>\n",
       "      <td>Bucks County, Pennsylvania</td>\n",
       "      <td>-178</td>\n",
       "      <td>-605</td>\n",
       "      <td>862</td>\n",
       "    </tr>\n",
       "    <tr>\n",
       "      <th>42029</th>\n",
       "      <td>Chester County, Pennsylvania</td>\n",
       "      <td>1829</td>\n",
       "      <td>-887</td>\n",
       "      <td>1374</td>\n",
       "    </tr>\n",
       "    <tr>\n",
       "      <th>42045</th>\n",
       "      <td>Delaware County, Pennsylvania</td>\n",
       "      <td>1374</td>\n",
       "      <td>-2513</td>\n",
       "      <td>1579</td>\n",
       "    </tr>\n",
       "    <tr>\n",
       "      <th>42091</th>\n",
       "      <td>Montgomery County, Pennsylvania</td>\n",
       "      <td>1230</td>\n",
       "      <td>-1987</td>\n",
       "      <td>2315</td>\n",
       "    </tr>\n",
       "    <tr>\n",
       "      <th>42101</th>\n",
       "      <td>Philadelphia County, Pennsylvania</td>\n",
       "      <td>8617</td>\n",
       "      <td>-11796</td>\n",
       "      <td>8904</td>\n",
       "    </tr>\n",
       "  </tbody>\n",
       "</table>\n",
       "</div>"
      ],
      "text/plain": [
       "                                 GEONAME  Natural Increase  Net Domestic Mig  \\\n",
       "fips                                                                           \n",
       "42017         Bucks County, Pennsylvania              -178              -605   \n",
       "42029       Chester County, Pennsylvania              1829              -887   \n",
       "42045      Delaware County, Pennsylvania              1374             -2513   \n",
       "42091    Montgomery County, Pennsylvania              1230             -1987   \n",
       "42101  Philadelphia County, Pennsylvania              8617            -11796   \n",
       "\n",
       "       Net Foreign Mig  \n",
       "fips                    \n",
       "42017              862  \n",
       "42029             1374  \n",
       "42045             1579  \n",
       "42091             2315  \n",
       "42101             8904  "
      ]
     },
     "execution_count": 6,
     "metadata": {},
     "output_type": "execute_result"
    }
   ],
   "source": [
    "data=response.json()\n",
    "df=pd.DataFrame(data[1:], columns=data[0]).\\\n",
    "    rename(columns={\"NATURALINC\": \"Natural Increase\", \"DOMESTICMIG\": \"Net Domestic Mig\", \"INTERNATIONALMIG\":\"Net Foreign Mig\"})\n",
    "df['fips']=df.state+df.county\n",
    "df.set_index('fips',inplace=True)\n",
    "df.drop(columns=['state','county'],inplace=True)\n",
    "df=df.astype(dtype={'Natural Increase':'int64','Net Domestic Mig':'int64','Net Foreign Mig':'int64'},inplace=True)\n",
    "df"
   ]
  },
  {
   "cell_type": "code",
   "execution_count": 7,
   "metadata": {},
   "outputs": [
    {
     "data": {
      "text/plain": [
       "fips\n",
       "42017      79\n",
       "42029    2316\n",
       "42045     440\n",
       "42091    1558\n",
       "42101    5725\n",
       "dtype: int64"
      ]
     },
     "execution_count": 7,
     "metadata": {},
     "output_type": "execute_result"
    }
   ],
   "source": [
    "#Total population change 2017-2018\n",
    "df.sum(axis=1)"
   ]
  },
  {
   "cell_type": "code",
   "execution_count": 8,
   "metadata": {},
   "outputs": [
    {
     "data": {
      "text/plain": [
       "Text(0.5, 0, '')"
      ]
     },
     "execution_count": 8,
     "metadata": {},
     "output_type": "execute_result"
    },
    {
     "data": {
      "image/png": "[encoded data removed]",
      "text/plain": [
       "<Figure size 432x288 with 1 Axes>"
      ]
     },
     "metadata": {
      "needs_background": "light"
     },
     "output_type": "display_data"
    }
   ],
   "source": [
    "labels=df['GEONAME'].str.split(' ',expand=True)[0]\n",
    "ax=df.plot.bar(rot=0, title='Components of Population Change 2017-18')\n",
    "ax.set_xticklabels(labels)\n",
    "ax.set_xlabel('')"
   ]
  },
  {
   "cell_type": "code",
   "execution_count": null,
   "metadata": {},
   "outputs": [],
   "source": []
  }
 ],
 "metadata": {
  "kernelspec": {
   "display_name": "Python 3",
   "language": "python",
   "name": "python3"
  },
  "language_info": {
   "codemirror_mode": {
    "name": "ipython",
    "version": 3
   },
   "file_extension": ".py",
   "mimetype": "text/x-python",
   "name": "python",
   "nbconvert_exporter": "python",
   "pygments_lexer": "ipython3",
   "version": "3.7.3"
  }
 },
 "nbformat": 4,
 "nbformat_minor": 2
}
